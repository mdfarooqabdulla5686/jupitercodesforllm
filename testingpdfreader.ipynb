{
 "cells": [
  {
   "cell_type": "markdown",
   "metadata": {},
   "source": [
    "Chatbot Memory: Retrieval Augmented Generation (RAG) Chain | LangChain | Python | Ask PDF Documents\n",
    "https://www.youtube.com/watch?v=PtO44wwqi0M"
   ]
  },
  {
   "cell_type": "code",
   "execution_count": 71,
   "metadata": {},
   "outputs": [
    {
     "name": "stdout",
     "output_type": "stream",
     "text": [
      "Requirement already satisfied: pypdf in c:\\users\\user\\llm_rag\\.venv\\lib\\site-packages (4.2.0)\n"
     ]
    }
   ],
   "source": [
    "!pip install pypdf"
   ]
  },
  {
   "cell_type": "code",
   "execution_count": 72,
   "metadata": {},
   "outputs": [
    {
     "name": "stdout",
     "output_type": "stream",
     "text": [
      "Requirement already satisfied: langchain_community in c:\\users\\user\\llm_rag\\.venv\\lib\\site-packages (0.2.6)\n",
      "Requirement already satisfied: PyYAML>=5.3 in c:\\users\\user\\llm_rag\\.venv\\lib\\site-packages (from langchain_community) (6.0.1)\n",
      "Requirement already satisfied: SQLAlchemy<3,>=1.4 in c:\\users\\user\\llm_rag\\.venv\\lib\\site-packages (from langchain_community) (2.0.31)\n",
      "Requirement already satisfied: aiohttp<4.0.0,>=3.8.3 in c:\\users\\user\\llm_rag\\.venv\\lib\\site-packages (from langchain_community) (3.9.5)\n",
      "Requirement already satisfied: dataclasses-json<0.7,>=0.5.7 in c:\\users\\user\\llm_rag\\.venv\\lib\\site-packages (from langchain_community) (0.6.7)\n",
      "Requirement already satisfied: langchain<0.3.0,>=0.2.6 in c:\\users\\user\\llm_rag\\.venv\\lib\\site-packages (from langchain_community) (0.2.6)\n",
      "Requirement already satisfied: langchain-core<0.3.0,>=0.2.10 in c:\\users\\user\\llm_rag\\.venv\\lib\\site-packages (from langchain_community) (0.2.11)\n",
      "Requirement already satisfied: langsmith<0.2.0,>=0.1.0 in c:\\users\\user\\llm_rag\\.venv\\lib\\site-packages (from langchain_community) (0.1.84)\n",
      "Requirement already satisfied: numpy<2.0.0,>=1.26.0 in c:\\users\\user\\llm_rag\\.venv\\lib\\site-packages (from langchain_community) (1.26.4)\n",
      "Requirement already satisfied: requests<3,>=2 in c:\\users\\user\\llm_rag\\.venv\\lib\\site-packages (from langchain_community) (2.32.3)\n",
      "Requirement already satisfied: tenacity!=8.4.0,<9.0.0,>=8.1.0 in c:\\users\\user\\llm_rag\\.venv\\lib\\site-packages (from langchain_community) (8.5.0)\n",
      "Requirement already satisfied: aiosignal>=1.1.2 in c:\\users\\user\\llm_rag\\.venv\\lib\\site-packages (from aiohttp<4.0.0,>=3.8.3->langchain_community) (1.3.1)\n",
      "Requirement already satisfied: attrs>=17.3.0 in c:\\users\\user\\llm_rag\\.venv\\lib\\site-packages (from aiohttp<4.0.0,>=3.8.3->langchain_community) (23.2.0)\n",
      "Requirement already satisfied: frozenlist>=1.1.1 in c:\\users\\user\\llm_rag\\.venv\\lib\\site-packages (from aiohttp<4.0.0,>=3.8.3->langchain_community) (1.4.1)\n",
      "Requirement already satisfied: multidict<7.0,>=4.5 in c:\\users\\user\\llm_rag\\.venv\\lib\\site-packages (from aiohttp<4.0.0,>=3.8.3->langchain_community) (6.0.5)\n",
      "Requirement already satisfied: yarl<2.0,>=1.0 in c:\\users\\user\\llm_rag\\.venv\\lib\\site-packages (from aiohttp<4.0.0,>=3.8.3->langchain_community) (1.9.4)\n",
      "Requirement already satisfied: marshmallow<4.0.0,>=3.18.0 in c:\\users\\user\\llm_rag\\.venv\\lib\\site-packages (from dataclasses-json<0.7,>=0.5.7->langchain_community) (3.21.3)\n",
      "Requirement already satisfied: typing-inspect<1,>=0.4.0 in c:\\users\\user\\llm_rag\\.venv\\lib\\site-packages (from dataclasses-json<0.7,>=0.5.7->langchain_community) (0.9.0)\n",
      "Requirement already satisfied: langchain-text-splitters<0.3.0,>=0.2.0 in c:\\users\\user\\llm_rag\\.venv\\lib\\site-packages (from langchain<0.3.0,>=0.2.6->langchain_community) (0.2.2)\n",
      "Requirement already satisfied: pydantic<3,>=1 in c:\\users\\user\\llm_rag\\.venv\\lib\\site-packages (from langchain<0.3.0,>=0.2.6->langchain_community) (2.8.2)\n",
      "Requirement already satisfied: jsonpatch<2.0,>=1.33 in c:\\users\\user\\llm_rag\\.venv\\lib\\site-packages (from langchain-core<0.3.0,>=0.2.10->langchain_community) (1.33)\n",
      "Requirement already satisfied: packaging<25,>=23.2 in c:\\users\\user\\llm_rag\\.venv\\lib\\site-packages (from langchain-core<0.3.0,>=0.2.10->langchain_community) (24.1)\n",
      "Requirement already satisfied: orjson<4.0.0,>=3.9.14 in c:\\users\\user\\llm_rag\\.venv\\lib\\site-packages (from langsmith<0.2.0,>=0.1.0->langchain_community) (3.10.6)\n",
      "Requirement already satisfied: charset-normalizer<4,>=2 in c:\\users\\user\\llm_rag\\.venv\\lib\\site-packages (from requests<3,>=2->langchain_community) (3.3.2)\n",
      "Requirement already satisfied: idna<4,>=2.5 in c:\\users\\user\\llm_rag\\.venv\\lib\\site-packages (from requests<3,>=2->langchain_community) (3.7)\n",
      "Requirement already satisfied: urllib3<3,>=1.21.1 in c:\\users\\user\\llm_rag\\.venv\\lib\\site-packages (from requests<3,>=2->langchain_community) (2.2.2)\n",
      "Requirement already satisfied: certifi>=2017.4.17 in c:\\users\\user\\llm_rag\\.venv\\lib\\site-packages (from requests<3,>=2->langchain_community) (2024.7.4)\n",
      "Requirement already satisfied: typing-extensions>=4.6.0 in c:\\users\\user\\llm_rag\\.venv\\lib\\site-packages (from SQLAlchemy<3,>=1.4->langchain_community) (4.12.2)\n",
      "Requirement already satisfied: greenlet!=0.4.17 in c:\\users\\user\\llm_rag\\.venv\\lib\\site-packages (from SQLAlchemy<3,>=1.4->langchain_community) (3.0.3)\n",
      "Requirement already satisfied: jsonpointer>=1.9 in c:\\users\\user\\llm_rag\\.venv\\lib\\site-packages (from jsonpatch<2.0,>=1.33->langchain-core<0.3.0,>=0.2.10->langchain_community) (3.0.0)\n",
      "Requirement already satisfied: annotated-types>=0.4.0 in c:\\users\\user\\llm_rag\\.venv\\lib\\site-packages (from pydantic<3,>=1->langchain<0.3.0,>=0.2.6->langchain_community) (0.7.0)\n",
      "Requirement already satisfied: pydantic-core==2.20.1 in c:\\users\\user\\llm_rag\\.venv\\lib\\site-packages (from pydantic<3,>=1->langchain<0.3.0,>=0.2.6->langchain_community) (2.20.1)\n",
      "Requirement already satisfied: mypy-extensions>=0.3.0 in c:\\users\\user\\llm_rag\\.venv\\lib\\site-packages (from typing-inspect<1,>=0.4.0->dataclasses-json<0.7,>=0.5.7->langchain_community) (1.0.0)\n"
     ]
    }
   ],
   "source": [
    "!pip install langchain_community"
   ]
  },
  {
   "cell_type": "code",
   "execution_count": 1,
   "metadata": {},
   "outputs": [],
   "source": [
    "from langchain_community.document_loaders import PyPDFLoader"
   ]
  },
  {
   "cell_type": "markdown",
   "metadata": {},
   "source": [
    "PDF Loader from the Folder"
   ]
  },
  {
   "cell_type": "code",
   "execution_count": 2,
   "metadata": {},
   "outputs": [],
   "source": [
    "# loader = PyPDFLoader(\"documents/JTBD_Book.pdf\")\n",
    "# loader = PyPDFLoader(\"documents/Case_Study_FIH.pdf\")\n",
    "# loader = PyPDFLoader(\"documents/3_javabook.pdf\")\n",
    "loader = PyPDFLoader(\"documents/PHD_PROGRAMME.pdf\")"
   ]
  },
  {
   "cell_type": "markdown",
   "metadata": {},
   "source": [
    "Load the PDF using the pypdf into the \"pages\" variables\n",
    "Each page is stored as a separate chunk. It also stores page numbers in metadata"
   ]
  },
  {
   "cell_type": "code",
   "execution_count": 3,
   "metadata": {},
   "outputs": [
    {
     "data": {
      "text/plain": [
       "[Document(metadata={'source': 'documents/PHD_PROGRAMME.pdf', 'page': 0}, page_content='1  \\n \\n \\n \\nRegulations  for \\nDoctor of Philosophy   \\n2024 \\n \\n \\n(As per UGC  Regulations  2022 )'),\n",
       " Document(metadata={'source': 'documents/PHD_PROGRAMME.pdf', 'page': 1}, page_content='2 NATIONAL INSTITUTE OF  \\nTECHNICAL TEACHERS TRAINING AND RESEARCH  \\nCHENNAI  \\nTable of Contents  \\nDEFINITIONS  AND  NOMENCLATURE  3 \\n1. GENERAL  ELIGIBILITY  1 \\n2. EDUCATIONAL  QUALIFICATIONS  1 \\n3. Ph.D. PROGRAMME  2 \\n3.1 Full-time Ph.D. Programme  2 \\n3.2 Part-Time Ph.D. Programme  3 \\n3.3 Executive Ph.D. Programme  3 \\n3.4 Change of Category  3 \\n4. DURATION OF THE PROGRAMME  3 \\n5. ADMISSION  4 \\n6. SUPERVISOR RECOGNITION  5 \\n7. CHANGE OF SUPERVISOR  6 \\n8. NUMBER OF SCHOLARS  8 \\n9. COURSE WORKS  8 \\n10. RESEARCH ADVISORY COMMITTEE  10 \\n11. EVALUATION AND ASSESSMENT METHODS  11 \\n12. SUBMISSION OF SYNOPSIS  11 \\n13. SUBMISSION OF THESIS  12 \\n14. THESIS EVALUATION  13 \\n15. ORAL EXAMINATION  15 \\n16. AWARD OF Ph.D. DEGREE  16 \\n17. CANCELLATION OF REGISTRATION  16 \\n18. PUBLICATION OF THESIS  17 \\n19. POWER TO MODIFY  17'),\n",
       " Document(metadata={'source': 'documents/PHD_PROGRAMME.pdf', 'page': 2}, page_content='3 NITTTR CHENNAI  \\nREGULATIONS FOR DOCTOR OF PHILOSOPHY – R 2024  \\n \\nDEFINITIONS  AND  NOMENCLATURE  \\n1. In the Regulations,  unless  the context  otherwise  requires,  \\n2. “Act” means the University Grants Commission Act,1956 (3 of 1956 ).  \\n3. “Adjunct Faculty” means a part -time or contingent instructor, but not full -time faculty member \\nhired to teach.   \\n4. “Chairperson”  means  Head  of the Faculty . \\n5. “Commission” means the University Grants Commission established under Section 4 of the UGC \\nAct1956.   \\n6. “Course Work” means courses of study prescribed by the School/Department/ Centre to be \\nundertaken by a student registered for the Ph.D. Degree.   \\n7. “Credit” m eans the number of hours of instruction required per week over the duration of a \\nsemester. A three -credit course in a semester means three one -hour lectures per week, with \\neach one -hour lecture counted as one credit.   \\n8. “Cumulative Grade Point Average (CGPA)” means a measure of the overall cumulative \\nperformance of a student over all semesters. The CGPA is the ratio of total credit points secured \\nby a student in various courses in all semesters and the sum of the total cr edits of all courses in \\nall semesters. It is expressed up to  two decimal places .  \\n9. “Degree” means a degree awarded by a NITTTR Chennai in accordance with the provisions of \\nsection 22 (3) of the Act.  \\n10. “External examiner” means an academician/researcher with published research work who is not \\npart of the NITTTR Chennai where  the Ph.D. scholar has registered for the Ph.D. programme .  \\n11. “Foreign Educational Institution” means –(i) an institution duly established or incorporated in its \\nhome country and offering educ ational programmes at the undergraduate, postgraduate,  and \\nhigher levels in its home country and (ii) which offers programme(s) of study leading to the award \\nof a degree through conventional face -to-face mode, but excluding distance, online, ODL mode.   \\n12. “Grade Point” means a numerical weight allotted to each letter grade on a 10 -point scale.   \\n13. “Guide/Research Supervisor” means an academician/researcher recognized by NITTTR \\nChennai to supervise the Ph.D. scholar for his/her research.   \\n14. “Head  of the Department”  means  Head  of the Department  of the Supervisor*.  \\n15. “Higher Educational Institution” means a university or institution specified under clause 2 of \\nRegulation 1 of these Regulations.   \\n16. “Interdisciplinary Research” means research conducted by a Ph.D. scholar in two or more \\nacademic disciplines.'),\n",
       " Document(metadata={'source': 'documents/PHD_PROGRAMME.pdf', 'page': 3}, page_content='4 17. “Joint  Supervisor”  means  a recognized  Supervisor  to guide  the scholars  in interdisciplinary  research \\nthat requires more than one expert or to take care of the administrative and  research  \\nresponsibilities  of the scholar if  the Supervisor  retires from  service.  \\n18. “Plagiarism” means the practice of taking someone else’s work or idea and passing them as \\none’s own.   \\n19. “Programme” means a higher education programme pursued for a degree specified by the \\nCommission under sub -section (3) of section 22 of the Act. \\n20. “Prospectus” means any document, whether in print or otherwise, issued for providing fair and \\ntransparent inform ation relating to a Higher Educational Institution and programmes, to the \\ngeneral public (including to those seeking admission in such Higher Educational Institutions) by \\nthe Higher Educational Institutions.  “Publication” means full -length research article s reporting \\nnew research findings in  respective  fields  comprising  presentations  on new concepts,  the \\ndevelopment  of innovative  methods  that include  figures,  tables,  and references;  the results  of \\nwhich  have  a general  impact  and contribute  to the advancement  of the particular  field and are \\nalways  peer reviewed.  \\n21. “Research Advisory Committee”  means  a committee  constituted  by the University  for each  \\nscholar  to monitor the progress  of his/her  research work .  \\n22. “Research Proposal” means a brief write -up giving an outline of the proposed research work \\nwhich the Ph.D. scholar shall submit along with the application for registration for Ph.D. \\nprogramme.   \\n23. “Scholar”  means  any candidate  admitted  by the NITTTR Chennai  for pursuing  research  for the \\naward  of Ph.D.  degree  of the NITTTR Chennai.  \\n24. “Specialization” means the discipline of the Post Graduate Degree Programme such as  \\nEnvironmental  Engineering,  Applied Electronics, Physics, etc.  \\n25. “Supervisor” means any faculty member of the NITTTR Chennai who  has been  recognized  by the \\nUniversity  to guide  the research scholars.   \\n26. “University” means a Higher Educational Institution established or incorporated by or under a \\nCentral Act, a Provincial Act, or a State Act, and shall include any institution for higher education \\ndeemed to be a University under Section 3 of the Act.  \\n \\n*Gen eral Instruction s: \\nAll documents submitted to the Centre for Academic Studies and Research, NITTTR Chennai duly \\nsigned by the Supervisor shall be forwarded by the Head of the Department / Centre (signed and seal \\nincluded) where the Supervisor i s associated .  \\n \\nAll meetings related to the Ph.D. procedures shall be conducted offline wherever possible. The first \\nand second Research Advisory Committee  Meetings, Seminars shall be conducted online. However,'),\n",
       " Document(metadata={'source': 'documents/PHD_PROGRAMME.pdf', 'page': 4}, page_content='5 the Research Advisory Committee  Meeting for Synopsis Subm ission and the Final Viva -Voce \\nExamination shall  be conducted in the physical mode only .  \\n \\nAll meetings shall be conducted on regular working days .'),\n",
       " Document(metadata={'source': 'documents/PHD_PROGRAMME.pdf', 'page': 5}, page_content='1 1. GENERAL  ELIGIBILITY  \\nThe following are  eligible to seek admission to the Ph.D . Programme:  \\n Candidates who have completed:  \\n1.1 A 2-year/ 4- semester master’s degree programme after a 4 -year/ 8 semester Bachelor’s \\ndegree programme or a 2 year / 4 semester master’s degree programme after a 3 year \\nbachelor’s degree programme or qualifications declared equivalent to the master’s \\ndegree by the corresponding statutory regulatory body, with at least 55% marks in \\naggregate or equivalent grade in a poin t scale wherever grading system is followed.  \\n1.2 Candidates who seek admission after a 4 year / 8 semester bachelor’s degree \\nprogramme should have a minimum of 75% marks in aggregate or its equivalent grade \\non a point scale wherever the grading system is follo wed.  \\n1.3 Candidates who have completed the M.Phil . programme as per UGC Norms with at least \\n55% marks in aggregate or its equivalent grade in a point scale wherever grading system \\nis followed.   \\n1.4 Executives/ Scientists / Scientific Officers working in State / National/ International \\nresearch institutes / Organizations with a minimum of Three years of experience and at \\nleast 55% marks / 6.0 CGPA in Bachelor ’s or Master’s Degree in  the concerned discipline \\nare eligible to register themselves for Executive Ph.D.  \\n1.5 A relaxation  of 5% marks or its equivalent grade may be allowed for those belonging to \\nSC/ST/OBC (non -creamy layer) / Differently abled, Economically Weaker Section (EWS) \\nand other categories of candidates as per the decision of the commission from time to \\ntime.  \\n \\n2. EDUCATIONAL  QUALIFICATIONS  \\nProgramme  Qualification  for Admission  \\n(i) Ph.D.  Degree  in \\nEngineering / Technology  M.E./ M.Tech. / M.S. (By Research)  in the relevant  branch  \\nof Engineering  or Technology . \\nB.E/ B.Tech . in the relevant branch of Engineering  or \\nTechnology  \\n(ii) Ph.D.  Degree  in \\nEngineering  Education  \\n(Inter Disciplinary)  M.E./ M.Tech. / M.S. (By Research)  in the relevant  branch  \\nof Engineering  or Technology.  \\nB.E/ B.Tech . in the relevant branch of Engineering  or \\nTechnology  \\nMBA / Post Graduate  Diploma  in Business  \\nManagement  or Administration  awarded  by Indian'),\n",
       " Document(metadata={'source': 'documents/PHD_PROGRAMME.pdf', 'page': 6}, page_content='2 Programme  Qualification  for Admission  \\nInstitute  of Management  (IIM)/ M.S. (By Research)  in \\nManagement  Sciences / CA/ICWA  \\nM.Sc. / M.S. (By Research)  in the relevant  branch  of \\nScience  and Humanities / M.C.A/  M.A. (English/  \\nCommunication/  Mass  Communication/  Journalism / \\nMedia  Arts)  \\n(iii) Ph.D.  Degree  in Science  \\nand Humanities  M.Sc. / M.S. (By Research)  in the relevant  branch  of \\nScience  and Humanities / M.C.A/  M.A. (English/  \\nCommunication/  Mass  Communication / Journalism/ \\nMedia  Arts/ MSW )  \\n(iv) Ph.D.  Degree  in \\nManagement  Sciences  MBA / Post Graduate  Diploma  in Business  \\nManagement  or Administration  awarded  by Indian  \\nInstitute  of Management  (IIM)/ M.S. (By Research)  in \\nManagement  Sciences / CA/ICWA  \\n \\n3. Ph.D. PROGRAMME  \\nCandidates shall Register for the Ph.D. Degree Programme in the Institute / Extension centres  \\ncoming under these regulations in any one of the categories.  Three  categories  of Ph.D.  \\nprogramme  available  are: Full-time, Part  time and Executive Ph.D . Candidates  who satisfy the \\neligibility criteria as in Clauses 1 & 2 are eligible to apply for Ph.D.  Programme.  \\n3.1 Full-time Ph.D. Programme  \\n3.1.1  Candidates  under  Full-time shall do research  work  in the Institute / Extension \\ncentre  shall be available during the working hours  for curricular and  related \\nactivities.  \\n3.1.2  Candidates who clear the selection criteria of the Ph.D. admission of the Institute \\nand working  in the projects  undertaken  from State / Central / Quasi  Government  \\nand fully funded projects in the Departments / Centres of  NITTTR Chennai  shall \\nregister for the research programme under  the supervisorship of the Principal \\nInvestigator of such projects. Such  supervisors should be regular teaching faculty \\nas well as recognized supervisors of  NITTTR Chennai . The scholar  should  be \\nappointed  in a project  sanctioned  by a funding  agency/organization at least  for a \\nperiod of two years.  \\n3.1.3  Candidates who are sponsored by AICTE under Quality Improvement Programme \\nfor teachers of technical institutions  and who satisfy the eligibility conditions shall'),\n",
       " Document(metadata={'source': 'documents/PHD_PROGRAMME.pdf', 'page': 7}, page_content='3 apply for Full -time category only, in the Specializations as notified in the AICTE \\nguidelines.  \\n3.1.4  Candidates who are selected at National level Fellowship programmes or by any  \\nrecognized bodies and who satisfy  the eligibility conditions as per the regulations  \\nshall apply  for Full -time category in  the respective  Specialization.   \\n3.1.5  Foreign  Nationals  sponsored  by the Government  of India  or their respective  \\nGovernment  on any exchange  programme  and who satisfy  the eligibility  conditions  \\nas per the regulations  shall apply  for Full-time category  in the respective  \\nSpecialization.  \\n3.1.6  Full-time scholars shall mark biometric attendance r egister on all working  days  at \\nthe respective place  of research.  \\n3.2 Part-Time Ph.D. Programme  \\nThe following  categories  of candidates  are eligible  to apply  under  Part-time programme . Full-\\ntime teaching  faculty  working in recognized institution of regulatory bodies and regular \\nteaching faculty of Government / Private Technical Institutions . The nomenclature shall \\ncontinue for the above scholars till  they are in service in  the above  Institutions . \\n3.3 Executive Ph.D. Programme  \\nCandidates working in Industrial Units / R&D Departments / National Laboratories / Units of \\nGovernment / Quasi Government / registered Public or Private Ltd. companies or any other \\nresearch laboratories  in India / Defence or other Ministries of the Government of India or any \\nother government organizations which  are recognized  by the Institute to do research  with the \\nInstitute and sponsored by  the respective employer.  In general, the executive Ph.D. \\ncandidates shall work on the research problem of their organizations with the faculty member \\nof NITTTR Chennai. The problem shall be worked with NITTTR Faculty Members as a funded \\nproject. The nomenclature shall continue for the above scholars till they are in service in the  \\nabove  Institutions.  \\n3.4 Change of Category  \\nThe change of category from (Full -time to Part -time and vice versa) shall be approved by the \\ncompetent  authority , subject to the submission of necessary documents along with the  \\nrecommendation of the Research Advisory Committee  Members . Change of Category is \\npermitted only for the scholars who had completed the confirmation of registration.  \\n \\n \\n4. DURATION OF THE PROGRAMME  \\n4.1 The Ph.D . programme shall be for a minimum duration of three (3) years, including \\ncourse work, and a maximum duration of six (6) years from the date of admission to the \\nPh. D Programme.'),\n",
       " Document(metadata={'source': 'documents/PHD_PROGRAMME.pdf', 'page': 8}, page_content='4 4.2 A maximum of an additional two (2) years can be given through a process of  re-\\nregistration as per the regulations of NITTTR Chennai ; provided however, that the total \\nperiod for completion of a Ph.D.  Programme should not exceed eight (8) years from the \\ndate of admission in the Ph.D.  programme.  \\n4.3 Provided further that, female Ph.D.  scholars and Persons with Disabilities (having more \\nthan 40% disability) may be allowed an additional relaxation of two (2) years; however, \\nthe total period for completion of a Ph.D. programme in such cases should not exceed \\nten (10) years from the date o f admission in the Ph.D. programme.  \\n4.4 Female Ph.D. Scholars may be provided Maternity Leave/ Childcare  Leave for up to 240  \\ndays in the entire duration of the Ph.D. programme.  \\n \\n5. ADMISSION  \\n5.1 The admission shall be based on the criteria notified by the institution, keeping in view  \\nthe guidelines/norms in this regard issued by the UGC and other statutory/regulatory \\nbodies concerned, and taking into account the reservation policy of the Central/State \\nGovernment from time to time.  \\n5.2 The candidates desirous o f registering for Ph.D. Programme shall apply by filling all  the \\nrelevant details mentioned in the online application form available  in the institute website \\nand submit online with the approval of the supervisor on or before the due  date as \\nindicated in th e notification issued from time to time. Institute  shall issue  notification  for \\nPh.D. admission  twice every  year.  \\n5.3 Incomplete applications and applications with false information in any respect shall  be \\nsummarily rejected  without  any intimation  to the  candidate.  \\n5.4 Admission to the Ph.D. programme shall be made using the following methods:  \\ni. NITTTR Chennai admit students who qualify for fellowship/scholarship in UGC -\\nNET/UGC - CSIR NET/GATE/CEED and similar National level tests based on an \\ninterview.  \\nand/or  \\nii. NITTTR Chennai admit students through an Entrance Test conducted at the  \\ninstitute . The Entrance Test syllabus shall consist of 50% of research \\nmethodology, and 50% shall be subject - specific.  \\niii. Students who have secured 50% marks in the entrance test are eligible to be \\ncalled for the interview.  \\niv. A relaxation of 5% marks will be allowed in the entrance examination for the \\ncandidates belonging to SC/ST/OBC/Differently abled category, Economically \\nweaker section (EWS) and other categories of candidates as per the decision of \\nthe commission from time to time.'),\n",
       " Document(metadata={'source': 'documents/PHD_PROGRAMME.pdf', 'page': 9}, page_content='5 v. NITTTR Chennai shall decide the number of eligible students to be called for an \\ninterview based on the number of Ph.D. seats available.  \\nvi. Provid ed that for the selection of candidates based on the entrance test conducted \\nby the  HEI, a weightage of 70 % for the entrance test and 30 % for the performance \\nin the interview/viva - voce shall be given.  \\n5.5 The selected candidate shall be admitted for the Ph .D. programme in the respective \\nFaculty based on his/her PG qualification. The admission committee constituted by the \\ncompetent authority  shall approve and recommend the shortlisted candidates for \\nadmission to the Ph.D. programme based on his/her PG qualif ication/research area in \\nthe appropriate specialization.  \\n5.6 The session of provisional registration for the Ph.D. programme shall be either  January  \\nor July of the year  in which  the candidate is  admitted.  \\n5.7 The selected  candidates  shall be provisionally  registered  for Ph.D.  programme  either  in \\nthe current  session  in which  the candidate  is selected  or in the subsequent  session,  \\nfailing  of which  will lead to the cancellation  of the candidature.  \\n5.8 The Scholar,  Supervisor,  Joint  Supervisor,  Research Advisory Committee  members  and \\nExaminers  shall not  be relatives to  one another.  \\n \\n6. SUPERVISOR RECOGNITION  \\nEligibility criteria to be a research supervisor, co -supervisor, number of Ph.D.  scholars \\npermissible per supervisor etc.,   \\n6.1 The applicant should possess Ph.D. degree in the relevant area of research in which  \\nhe/she has carried out the research and the supervisorship will be awarded in the same \\nfaculty in which his/her Ph.D. degree is awarded.  In addition to the same faculty, they \\nshall guide in the interdiscipli nary area of Engineering Education.  \\n6.2 Permanent faculty members working as Professor/Associate Professor of the NITTTR \\nChennai with a Ph.D., and at least five SCI publications  and permanent faculty members \\nworking as Assistant Professors in NITTTR Chennai w ith a Ph.D., and at least three \\nresearch SCI publications may be recognized as a Research Supervisor in the NITTTR \\nChennai. A Patent granted is considered equivalent to one SCI journal publication. The \\nrecognized research supervisors can only act as co -supervisors  in INI / CFTI / Institutes \\nwith NIRF ranking up to 100 and faculty members from such institutions shall also be \\npermitted to guide the scholars as co -supervisors . \\n6.3 Publications produced during the Ph.D. programme and after the completion of  the Ph.D.  \\nprogramme  shall be considered  for processing  the application.'),\n",
       " Document(metadata={'source': 'documents/PHD_PROGRAMME.pdf', 'page': 10}, page_content='6 6.4 If self -plagiarism / plagiarism is ascertained in  the publications of the applicant, the \\napplication will be summarily rejected,  and the  applicant  will not be permitted  to apply  \\nfor Supervisorship  for the next two years.  \\n6.5 The applicant who fulfils  the norms will be recognized as supervisor based on the  \\nrecommendation of the Faculty Chairperson concerned  and approval  of the committee \\nconstituted by the competent authority.  \\n6.6 For interdisciplinary research that requires  more  than one expert,  the Joint  Supervisor  \\nfrom other Departments/Institutions  (as per clause 6.2)  shall be approved by the \\ncompetent authority based  on the request of the Supervisor and the recommendation of \\nthe Head s of the Department s/ Centre  of the Supervisor  and the proposed Joint \\nSupervisor, respectively . \\n6.7 A Supervisor shall entertain registration of new scholars under his/her supervision up up \\nto the age of 62. However, such faculty members can continue to supervise Ph.D. \\nscholars who are already registered until superannuation and as a joint supervisor after \\nsuperannuation . \\n6.8 Communication in any form with the Thesis examiners by the Supervisor/Joint  \\nSupervisor/Scholar  after the submission  of Synopsis/Thesis  of the scholar  in connection \\nwith the evaluation report  shall lead to the withdrawal  of the supervisorship  for a period \\nof five years and they shall be debarred  from guiding  the existing  scholars  in the Institute  \\ntill such period.  \\n6.9 Any violation of Ph.D. regulations by the Supervisor/Joint Supervisor shall lead to the \\nwithdrawal of the supervisorship either permanently or for a maximum period of five \\nyears and they shall be debarred from guiding the existing scholars in the institute  till \\nsuch period.  \\n7. CHANGE OF SUPERVISOR  \\n7.1 When a Supervisor of a scholar happens to be away from NITTTR Chennai for more \\nthan six months and up to maximum of one year, he/she shall continue to guide the \\nscholar, but a Supervisor -in-charge (recognized Supervi sor of the Institute ) shall be  \\nnominated by the  competent authority  based on the request of the Supervisor and / other  \\nrecommendation of the Head of the Department of the Supervisor to take care of the \\nadministrative responsibilities of the Scholar. The nominated faculty member shall \\ncontinue as Supervisor -in-charge until Supervisor returns or to a maximum period of one \\nyear.  \\n7.2 All these requests should be recommended and forwarded by the respective HoD of the \\ninitial Supervisor and Supervisor -in-charge.  \\n7.3 The Supervisor who retires from service shall continue to guide a scholar already \\nregistered under  his/her  guidance,  provided the provisional  registration  of the scholar  is'),\n",
       " Document(metadata={'source': 'documents/PHD_PROGRAMME.pdf', 'page': 11}, page_content='7 confirmed, and the scholar submits the Thesis within one year from the date of  his/her \\nsuperannuation / leaves service based on his/her written request. If the  scholar has not \\nsubmitted the thesis within o ne year, a Joint Supervisor / a Research Coordinator shall \\nbe nominated by the  competent authority  based on th e request  of the Supervisor  and/or  \\nthe recommendation  of the Head  of the Department  of the Supervisor . \\n7.4 When a supervisor  migrates to other institutions /organization , such Supervisor’s \\nrecognition will  be cancelled. If the scholar has submitted synopsis or thesis under their \\nguideship, the superviso r shall be permitted  to continue  to guide  those  scholars  to \\ncomplete their research programme provided the scholar submits the Thesis within  one \\nyear from the date of migration of the Supervisor. A Research Coordinator is to  be \\nallocated  for those Scholar(s)  to discharge  the following  responsibility to  \\ni. arrange  the Research Advisory Committee  meetings.  \\nii. facilitate  the scholar  in preparing  the synopsis  and thesis.  \\niii. conduct  the Viva-Voce  examination.  \\n7.5 The Research Coordinator  is not entitled to take the credit of the Ph.D . degree of  such \\nscholar(s).  \\n7.6 In all other cases , such supervisors shall continue to guide those scholars as a Joint \\nsupervisor only and a Supervisor from a recognized department of the institute  shall be \\nnominated by the  competent authority  based on the request of the previous Supervisor \\n(present Joint supervisor) with the recommendation of the Head of the Department of \\nthe Supervisor to take care of the administrative and research responsibilities of the \\nscholar.  \\n7.7 If the Institution in which the scholar works becomes Private University, such scholar \\nshall be permitted to continue their research work in the NITTTR Chennai and to submit \\nthe Thesis under the same Supervisor with the approval from the  competent authority , \\nprovided his/her provisional registration is confirmed.  Otherwise , their registration sh all \\nbe cancelled.  \\n7.8 If the scholar migrates to another University / Institution / Public sector organization,  such \\nscholar shall be permitted to continue the research work in the institute  and permit to \\nsubmit the thesis under the same Supervisor with the appr oval from the  competent \\nauthority , provided  his/her  provisional  registration  is confirmed.  In all other  cases,  the \\nregistration of  such scholar shall stand cancelled.  \\n7.9 Change  of Supervisor  for a research  scholar  shall be possible  on valid reasons  within  \\nthe maximum period from the date of registration with the consent of  both the present  \\nand proposed  Supervisors.  In case,  the scholar  requests  for a change  of Supervisor  \\nwithout  the consent  of the Supervisor,  the request  shall be considered  based  on the'),\n",
       " Document(metadata={'source': 'documents/PHD_PROGRAMME.pdf', 'page': 12}, page_content=\"8 recommendation  of the Committee  constituted  by the Director . In such  cases,  the \\ncommittee’s  decision  is final.  If the change  of Supervisor  is approved,  the scholar has to \\nwork for a minimum of one year with the new Supervisor and  Synopsis shall be accepted \\nonly when the scholar has published at least  one journal  publication  (as applicable)  with \\nnew Supervisor.  \\n7.10 The change of Supervisor can be done only once during the entire duration of the  \\nprogram. Under extraordinary circumstances , further change in Supervisor will be  \\napproved  based  on the recommendations  from the Director . \\n7.11 If a supervisor deceased after the submission of thesis by his / her scholar, a  Research \\nCoordinator shall be nominated by the  competent authority  based on the  \\nrecommendation  from the Head  of the Department  to discharge  the responsibilities of \\nthe supervisor . \\n \\n8. NUMBER OF SCHOLARS  \\n8.1 The Professor, who is a Supervisor,  shall guide only a maximum of 11 scholars as \\nSupervisor/  Joint Supervisor at any time. The Associate Professor, who is a Supervisor,  \\nshall guide only a maximum of 8 scholars and an Assistant Professor shall guide only a \\nmaximum of 5 scholars as Supervisor/ Joint Supervisor at any time.  \\n8.2 Each supervisor can guide up to two international research scholars on a supernumerary \\nbasis over and above the permitted number of Ph.D . scholars.  \\n8.3 At any point, the total number of Ph.D . Scholars under a faculty member, either as a \\nsupervisor or a co -supervisor, shall not exceed the number prescribed in clause 8.1 and \\n8.2. \\n \\n9. COURSE  WORK S \\n9.1 A minimum of four course works of 12 credits, as per the credit requirement for the Ph.D. \\ncourse works , including a “Research and Publication Ethics” course as notified by UGC \\nvide D.O. No. F.1 - 1/2018(Journal/CARE) in 2019 and a research methodology course. \\nThe Research Advisory Committee can also recommend institute  recognized online \\ncourses  such as SWAY AM as part of the credit requirements for the Ph.D. programme . \\nIn the case of candidates with B.E., / B. Tech., a minimum course works for 24 credits \\nshall be completed.  The course work s credit requirement for different categor ies are  \\ngiven below:  \\n9.1.1  In case of a Master's degree (Full Time - 2 years or equivalent) from any INI / CFTI \\n/ AICTE approved institut ions, the candidate shall have to complete a total of 12 \\ncredits within two years from the date of admission.\"),\n",
       " Document(metadata={'source': 'documents/PHD_PROGRAMME.pdf', 'page': 13}, page_content=\"9 4 Courses –  \\n12 Credits  Level I  Level II  \\nFoundation Courses  (Compulsory)  RAC  Approved / Online Courses (Electives)  \\n1 Course  3 Courses  \\n3 credits  9 credits  \\n \\n9.1.2  In case of a Master's degree or equivalent in Economics, Commerce, Social \\nSciences, and Sciences from any recognized University/ Institution, the candidate \\nwill have to complete a total of 18 credits within two years  from the date of \\nadmission . 6 Courses –  \\n18 Credits  Level I  Level II  \\nFoundation Courses (Compulsory)  RAC  Approved / Online Courses (Electives)  \\n2 Course  4 Courses  \\n6 credits  12 credits  \\n \\n9.1.3  In the case of Graduates having B.Tech. /B.E. or equivalent degree from INIs/CFTI \\n/ or other AICTE Approved Institutes, the candidate will have to complete a total \\nof 24 credits within two years from the date of admission.  \\n 8 Courses –  \\n24 Credits  Level I  Level II  \\nFoundation Courses (Compulsory)  RAC  Approved / Online Courses (Electives)  \\n3 Course  5 Courses  \\n9 credits  15 credits  \\n \\n9.2 All Ph.D. scholars, irrespective of discipline, shall be required to train in teaching / \\neducation / pedagogy/  writing related to their chosen Ph.D. subject during their doctoral \\nperiod. Ph.D. scholars may also be assigned 4 -6 hours per week of teaching/research \\nassistantship for conducting tutorial or laboratory work and evaluations.  \\n9.3 No change  in the course  works  prescribed  shall be made  without  the approval  of the \\nResearch Advisory Committee  and if any change,  the same  should  be informed  to the \\nCentre  in advance after due approval from the Research Advisory Committee  members.  \\n9.4 The prescribed course works shall normally be completed within two years from the  date \\nof provisional registration for both Full -time and Part -time scholars. Maximum of  two \\nattempts are permitted for the scholar to pass the subject for both Part -time and Full -\\ntime scholars and the courses should be completed within three years from  the date of \\nProvisional Registration. If the scholar fails to complete the confirmation  of provisional\"),\n",
       " Document(metadata={'source': 'documents/PHD_PROGRAMME.pdf', 'page': 14}, page_content='10 registration within three years after his/her registration for the Ph.D.  programme,  the \\nregistration of  the scholar shall stand  cancelled.  \\n9.5 Regularly  offered  PG electives  shall not be taken  as Special  Elective  and the scholar  \\nshall wait to undertake  such  course  work  when  it is offered  to the PG students  in the \\nDepartment.  \\n9.6 The scholars shall secure a CGPA of 7.0 i n the course works in order to become  eligible \\nfor comprehension examination. The scholar who fails to secure a CGPA of  7.0, shall \\nundertake one more course work relevant to the area of research  offered under any \\napproved PG programme of the institute  with the recommendation  of the Research \\nAdvisory Committee  or write the arrear examination (only once) from any  one/two of the \\ncourse works undertaken, to improve the CGPA to 7.0 (Best four  course  works  shall be \\nconsidered,  if additional  course  work  is underta ken).  A pass  in the Comprehensive \\nExamination is required for confirmation of Ph.D.  registration.  \\n9.7 On the successful completion of the prescribed course works  and based on the grade \\nsheet issued by the Controller of Examinations the comprehensive examination can be \\nconducted. In addition, the scholar shall give a seminar on the research topic to \\ndemonstrate the background knowledge in the area of specialisation  which shall also be \\nopen to all faculty members , research scholars  and students . This must be within 6 \\nmonths  from the date on which  the results  of all the prescribed  course works  are declared.  \\nThe Comprehensive Examination shall cover the topics in the specialization and allied  \\nareas. The result of the Comprehensive examination and the results of the course  works  \\nshall be detailed  in the minutes  of the Research Advisory Committee  and forwarded \\nto the  Dean (Academic and Research)  for confirmation of the provisional registration \\nand to  proceed further with his/her research, within two months from the date of the  \\nComprehensive  Examination held.  \\n9.8 If the performance of the scholar is not approved by the Research Advisory Committee  \\nbased  on the results  of the Comprehens ive Examination,  a grace  period  of three  months  \\n(within the  maximum  period of three years) shall be given and then at the end of which \\nthe scholar shall be re -examined. If found fit, the Provisional Registration is confirmed,  \\nand the scholar is permitted to proceed further with his/her research work. Otherwise, \\nthe provisional  registration  granted  to the scholar shall be  cancelled.  \\n \\n10. RESEARCH ADVISORY COMMITTEE  \\n10.1 There shall be a Research Advisory Committee (RAC) for every scholar to monitor the \\nprogress of research work . \\n10.2 The Research Supervisor of the Ph.D. scholar concerned shall be the Convener of this \\ncommittee, and this committee shall have the following responsibilities:'),\n",
       " Document(metadata={'source': 'documents/PHD_PROGRAMME.pdf', 'page': 15}, page_content='11 i. To review the research proposal and final ize the topic of research.  \\nii. To guide the Ph.D. scholar in developing the study design and methodology of \\nresearch and identify the course(s) that he/she may have to do.  \\niii. To periodically review and assist in the progress of the research work of the Ph.D.  \\nscholar.  \\n10.3 Each semester, a Ph.D. scholar shall appear before the Research Advisory Committee \\nto make a presentation and submit a brief report on the progress of his/her work for \\nevaluation and further guidance. The Research Advisory Committee shall submit its \\nrecommendations along with a copy of Ph.D. scholar’s progress report to the institute . \\nA copy of such recommendations shall also be provided to the Ph.D. scholar.  \\n10.4 In case the progress of the Ph.D. scholar is unsatisfactory, the Research Advisory \\nCommi ttee shall record the reasons for the same and suggest corrective measures. If \\nthe Ph.D. scholar fails to implement these corrective measures, the Research Advisory \\nCommittee may recommend, with specific reasons, the cancellation of the registration \\nof the  Ph.D. scholar from the Ph.D. programme.  \\n11. EVALUATION AND ASSESSMENT METHODS  \\n11.1 Upon satisfactory completion of course work s and obtaining the marks/grade prescribed \\nin clause (9) of the above, the Ph.D. scholar shall undertake research work.  \\n11.2 Before submittin g the synopsis, the Ph.D. scholar shall make a presentation before the \\nResearch Advisory Committee  followed by a seminar on the same  which shall also be \\nopen to all faculty members , research scholars  and students.  \\n \\n12. SUBMISSION OF SYNOPSIS  \\n12.1 Upon the completion of the course work requirement and confirmation, the scholar shall \\nbe permitted to submit the Synopsis only after obtaining the confirmation of provisional \\nregistration and publication of two research paper s in the SCI/ SSCI journals i n the fiel d \\nof specialization . However, a scholar shall be permitted to submit the Synopsis (after \\nobtaining confirmation) three months prior to the completion of his/her minimum \\nduration, provided the scholar has published a minimum of three research papers in SCI/  \\nSSCI journals i n the field of specialization. The scholar should be the first author or \\nsecond author (if the Supervisor/Joint Supervisor is the first author) based on his/her \\nresearch work and specifically recommended by the Research Advisory Committee. The \\ncontent of the published paper should be within the scope of the Journal. Publications \\nof the scholars where a UG / PG student/any third person is a corresponding author / \\nFirst author shall not be considered for processing of his/her Synopsis. Publica tions \\ndone in the Special Issues of Journal(s) are not accepted. Also, publications such as'),\n",
       " Document(metadata={'source': 'documents/PHD_PROGRAMME.pdf', 'page': 16}, page_content='12 Part of Collection, Short Communication, Short note/Short paper and Letter shall not be \\naccepted.  \\n12.2 The Synopsis shall also be accepted only when the scholar has been  granted  one \\nexamined standard patent granted based on his/her research work. The filing date of \\nthe patent should be after the date of provisional registration of the  Ph.D. Programme. \\nThe names of the scholar and the supervisor should feature in the paten t in the first and \\nsecond position, respectively. The claimed patent in which more than one scholar of the \\nsame Supervisor is/are involved, the patent shall be considered only once for the \\nsubmission of synopsis. The scholar shall not publish research arti cles with similar \\ncontents in part or full in more than one journal, which would result in Self Plagiarism.  \\n12.3 The synopsis shall be accepted , only if the Research Advisory Committee approves the \\nquality and quantity of research that appears in the final thes is is sufficient for further \\nexamination of the thesis.  \\n12.4 The scholar shall submit a copy of the Synopsis of his/  her research work prepared in \\naccordance with the format and specification prescribed, to the Research Advisory \\nCommittee through the Supervisor  and Joint Supervisor (if applicable) at the time of \\nResearch Advisory Committee meeting. At the time of the Synopsis approval meeting of \\nthe Research Advisory Committee, the scholar should produce the completed first draft \\nof the thesis.  \\n12.5 If the Research A dvisory Committee approves the research work reported in the \\nSynopsis and the approved Synopsis shall be submitted along with a panel of eight \\nexaminers at the level of Associate Professor and above/ equivalent scientist grade with \\na minimum five years of post-Ph.D. experience with fairly good publication record (H \\nindex). Out of the eight examiners, at least four examiners sh all be from IISc/ IITs/  ISER/  \\nNITs/ State Universities/ Central Universities and reputed State/ Central Laboratories \\nand the remainin g four examiners should be from reputed institutions abroad.  \\n \\n13. SUBMISSION OF THESIS  \\n13.1 The Thesis  shall report,  in an organized  and scholarly  format,  an account  of original  \\nresearch work of the scholar leading to the discovery of new facts or techniques or  \\ncorrelation of facts already known (analytical, experimental, hardware oriented, etc.)  and \\ndemonstrating  a quality  contribution  to the advancement  of knowledge  as well as the \\nscholar’s ability  to undertake  sustained  research . \\n13.2 The Thesis  shall be prepared  in accordance  with the prescribed  format  and specification.  \\nOne copy of thesis in PDF format should be uploaded. A hard copy shall be  submitted \\nonly after the acceptance of Synopsis and within three months from the  date of approval \\nof the Synopsis by the D octoral Committee. The journal publication made by the scholar'),\n",
       " Document(metadata={'source': 'documents/PHD_PROGRAMME.pdf', 'page': 17}, page_content='13 should contain the Volume and Issue number. Papers that are retracted during the time \\nof thesis submission and scrutiny shall not be considered for the processing of the thesis. \\nAlong with the thesis one hard  copy of the abstract of the Thesis in English (about 400 \\nwords) shall be submitted.  Under extraordinary circumstances, submission of Thesis \\nshall be permitted up to  a maximum period of six months, with prior approval from the \\ncompetent auth ority. In  such  cases, the late  fee shall be  paid as applicable.  \\n13.3 The Thesis  shall include  a Certificate  from the scholar,  Supervisor  and Joint  Supervisor \\n(if applicable) as prescribed, to the effect that the Thesis is a record of  original research \\nwork carried out by the scholar and the work reported in the thesis  is not copied  from \\nother  sources/  not submitted  elsewhere  for a degree  or diploma.  \\n13.4 The Thesis  shall be scrutinized  to assess  the overall  layout,  contents  and the quality  of \\npresentation of the Thesis. The deviation, if any, shall be rectified by the scholar  in \\nconsultation with the Supervisor and the same shall be approved by the competent \\nauthority  and three  copies  of the corrected  thesis  shall be submitted.  Soft copy  of the \\nthesis, abstract of  the Thesis in English shall be uploaded in the  Institute website.  \\n13.5 Research Scholars submitting their Ph.D. Thesis for scrutiny should also include a \\nplagiarism report (first page only) of the thesis generated from the login of the respective \\nSupervisors.  In addition to this, the research papers published in the journal list available \\non the Institute website shall also be included. The research papers should be in \\nchronological order of the date of publication. Each research paper should be printed \\nback t o back beginning on the right side with the actual page numbers of the journal. \\nFollowing the List of Publications page, the full research papers should be included. The \\nThesis Plagiarism Report should be included finally.  \\n13.6 Fees  shall be paid by the scholar s for every  semester  during  the notified  period  till the \\nsubmission of the Thesis.  Any other  fees as applicable  shall be paid as notified  from time \\nto time.  \\n13.7 The Ph.D. thesis submitted by a Ph.D. scholar shall be evaluated by his/her Research \\nSupervisor and at least two external examiners who are experts in the field and not in \\nemployment of the NITTTR Chennai. Such examiner(s) should be academics with a \\ngood r ecord of scholarly publications in the field. Wherever possible, one of the external \\nexaminers should be chosen from outside India. The viva -voce board shall consist of \\nthe Research Supervisor and at least one of the two external examiners and may be \\ncondu cted online. The viva -voce shall be open to the members of the Research Advisory \\nCommittee/faculty members/research scholars, and students.  \\n \\n14. THESIS EVALUATION'),\n",
       " Document(metadata={'source': 'documents/PHD_PROGRAMME.pdf', 'page': 18}, page_content='14 14.1 The Thesis shall be referred to two examiners (one from India and another from abroad) \\nnominated  by the Director  from the panel of examiners recommended by the Research \\nAdvisory Committee . The Director,  if deems it necessary may also nominate the \\nexaminers from outside the panel.  \\n14.2 The examiner shall include in his/her report an overall assessment placing the Thesis in \\nany one of the following categories.  \\n14.2.1  Recommend the acceptance of the Thesis in the present form.  \\n14.2.2  Recommend the acceptance of the Thesis. However, the scholar shall \\nincorporate the corrections indicated in the detailed report and place  the \\ncorrected copy to the Oral Examination Board but the corrected Thesis need \\nnot be sent to the examiner.  \\n14.2.3  Defer the recommendation at this stage and the scholar shall incorporate the \\nsuggested modifications in the Thesis and the corrected Thesis along w ith the \\nscholar’s clarifications shall be sent to the respective examiner.  \\n14.2.4  Reject the Thesis for the reasons set out in the detailed report.  \\n14.3 The examiner shall also enclose a detailed report, indicating the standard attained in the \\ncase of 1 4.2.1, the natu re of revision in the case of 1 4.2.2 & 1 4.2.3 and specific  reasons  \\nin the case of  14.2.4. \\n14.4 If both the examiners recommended for the award of the degree, Thesis shall be \\nprovisionally accepted. Any minor revision, modification, etc., suggested by the \\nexaminers shall be carried out before the Oral Examination Board.  \\n14.5 If any examiner recommends resubmission of the thesis after revision, the scholar shall \\nbe permitted to revise and resubmit the Thesis along with the resubmission fee within \\nsix months, fail ing which the revised thesis shall not be accepted and his/her registration \\nshall stand cancelled. The revised Thesis shall be referred to the same examiner for \\nhis/her final recommendation on the Thesis which shall be only either for \\nrecommendation for th e award or for rejection.  \\n14.6 If one examiner recommends the award of the degree while the other recommends \\nrejection, then the Thesis shall be referred to the third examiner to be nominated by the \\nDirector . If two of the three examiners recommend the award, t he Thesis shall be \\nprovisionally accepted. If two of the examiners recommend rejection, the Thesis shall \\nbe rejected and the registration of the scholar shall stand cancelled.  \\n14.7 If both the examiners recommend rejection, the Thesis shall be rejected and the \\nregistration of the scholar shall stand cancelled.  \\n14.8 In case, the examiner does not insist to send the Thesis back to him/her, the Thesis \\nshall be referred to the Research Advisory Committee  to ascertain the corrections \\ncarried out in the Thesis as suggested  by the examiners.'),\n",
       " Document(metadata={'source': 'documents/PHD_PROGRAMME.pdf', 'page': 19}, page_content='15 14.9 Individual cases not covered by the above Clauses shall be referred to the Director . If \\ndeemed fit, the Director, NITTTR Chennai  shall refer to the Research Board which in \\nturn shall refer to the Senate / BoG , for necessary action.  \\n \\n15. ORAL  EXAMINATION  \\n15.1 The viva -voce of the Ph.D. scholar to defend the thesis shall be conducted if both the \\nexternal examiners recommend acceptance of the thesis after incorporating any \\ncorrections suggested by them.  \\n15.2 On receipt of the evaluation reports, the Research Advisory Committee shall meet within \\nthree months and recommend a panel of three experts from Central Universities/ Central \\nGovernment Institutions/ Other State University Departments / Other State Govt. \\nInstitutions / Central / State Research Lab oratories, Govt./ Govt. Aided  Institution \\n(should not be below the cadre of Associate Professor), along with their publication \\ndetails in the last five years for constitution of an Oral Examination Board. No two experts \\nshall be from the same Institution. The competent authority nominates one member from \\nthe panel of experts recommended by the Research Advisory Committee. The Director, \\nif deems it necessary shall nominate a member from outside the panel.  \\n15.3 The Oral Examination Board shall be constituted by t he Director as follows:  \\na. Indian  Examiner  of the Thesis  or an expert  from the panel (in  the \\nabsence  of the former)  Member  \\nb. An expert  from a recognized  institution  from the panel  Member  \\nc. Joint  Supervisor  of the scholar,  if applicable  Member  \\nd. Supervisor  / Research Coordinator of the scholar,  if applicable  Convener  \\n15.4 The Oral examination shall be conducted within three months from date of issue of oral \\nexamination board as “Open Defence Type” Examination. The Oral examination should \\nnot be conduc ted on Saturday, Sunday and public holidays. The circular for the same \\nshall be communicated to the Centre for Academic Studies and Research /faculty \\nmembers/ research scholars/other departments/ other Institutions, at least three weeks \\nin advance (for phy sical/face -to-face mode) prior to the Viva – Voce Examination. A \\nminimum of ten members excluding Oral Examination Board members shall be present \\nfor the Viva -Voce Examination.  \\n15.5 Viva-Voce Examination shall be held at NITTTR Chennai (HQ) or Extension Centre.   \\n15.6 If the Oral Examination Board reports the performance of the scholar as “not satisfactory” \\nthen he/she may opt to reappear for the Oral Examination at a later date (not later than \\nthree months from the date of the first Oral Examination/ Viva Voce Examin ation). On'),\n",
       " Document(metadata={'source': 'documents/PHD_PROGRAMME.pdf', 'page': 20}, page_content='16 the second occasion, the Oral Examination Board shall include one more expert member \\nnominated by the Director.  \\n15.7 If the performance of the scholar in the Oral Examination in the second occasion also \\nreported to be “not satisfactory”, the Director , if deemed necessary, shall refer the \\nremarks of the Oral Examination Board, along with the Thesis and comments of the \\nExaminers, to a Committee constituted by the Director, for this purpose and the decision \\nof the Director shall be final.  \\n15.8 On satisfactory  completion of the Viva -Voce Examination, the scholar shall upload the \\nsoft copy of the corrected Thesis in accordance with the prescribed format and \\nspecification, duly certified by the Supervisor and Joint Supervisor (if applicable), that all \\nthe correct ions have been incorporated in the Thesis as suggested by the examiners.  \\n15.9 The NITTTR Chennai shall complete the entire process of evaluating a Ph. D. thesis, \\nincluding the declaration of the viva -voce result, within a period of six (6) months from \\nthe date of submission of the thesis.  \\n \\n16. AWARD OF Ph.D . DEGREE  \\nIf the report of the Oral Examination Board is satisfactory , the scholar shall be  awarded Ph.D. \\nDegree based on the specialization in which he/she got admission  for Ph.D. programme, \\nunder the Faculty of Engineering & Technology, Faculty of Management, Facu lty of Education, \\nwith the approval  of the Senate.  \\n \\n17. CANCELLATION OF REGISTRATION  \\n17.1 The registration of a scholar who has not submitted his/  her thesis before the end of the \\nmaximum duration including the extension period for the programme as in Clause 5 shall \\nstand cancelled automatically.  \\n17.2 The registration is liable for cancellation administratively  by the Head, Centre for \\nAcademic Studies and Research , if \\ni. The scholar  has not paid the semester  fees within  the stipulated  time.  \\nii. Two semesters  progress  reports  are not submitted  or not satisfactory.  \\niii. If the scholar  fails to complete  the confirmation  of provisional  registration  beyond  \\nthree  years  from the date of registration  for the Ph.D.  programme.  \\niv. The performance  is not satisfactory  to the Research Advisory Committee  and \\naccordingly  recommended for cancellation.  \\nv. Prior  permission  is not obtained  for break  of study  from the Dean (Academic and \\nResearch) .'),\n",
       " Document(metadata={'source': 'documents/PHD_PROGRAMME.pdf', 'page': 21}, page_content='17 vi. The scholar  wishes  to withdraw from the programme  and requests  to cancel  \\nhis/her  registration.  \\nvii. Extension  of time (beyond  six years)  is not obtained  as in Clause  4. \\nviii. Submission  of Thesis  beyond  three  months  from the date of approval  of Synopsis  by \\nthe Research Advisory Committee . \\nix. Submission  of revised  thesis  incorporating  the suggestions  of any examiner  \\nbeyond  six months.  \\nIn all the above  cancellation  cases,  the fees paid by the scholar  shall not be refunded.  \\n \\n18. PUBLICATION OF THESIS  \\nFollowing the successful completion of the evaluation process and before the announcement \\nof the award of the Ph.D. degree(s), NITTTR Chennai shall submit an electronic copy of the \\nPh.D. thesis to INFLIBNET, for hosting the same so as to make it accessible  to all the Higher \\nEducational Institutions and research institutions.  \\n \\nPapers  arising  out of the Thesis  may be published  by the scholar  and the Supervisor.  However, \\nthe Thesis as a whole shall be published by the scholar and Supervisor  after the award  of the \\ndegree  only with the approval  of the Head, Centre for Academic Studies and Research.  \\n \\n19. POWER TO MODIFY  \\nNot withstanding  all that has been stated above, the senate  has the right to  modify any of the \\nabove regulation from time to time only with a valid reason for the  enhancement of the quality \\nof research practices and the betterment  of the reputation  of the NITTTR Chennai . \\nNote:  The scholar  and the supervisor shall be governed  by the regulations  as in force  from time \\nto time.  The Supervisors and scholars are requested to visit the NITTTR Chennai  website for  \\nupdates  and announcements  periodically.  \\nIrrespective of the regulations in effect during the time of admission, the scholar and supervisor \\nshall strictly adhere to the regulations, amendments as given by the institute  in order to ensure \\nhigh quality research.  At the time of admission, each schol ar must give an undertaking that \\nhe/she will abide  by the Ph.D. regulation s.')]"
      ]
     },
     "execution_count": 3,
     "metadata": {},
     "output_type": "execute_result"
    }
   ],
   "source": [
    "pages = loader.load_and_split()\n",
    "loader.load_and_split()\n",
    "# print(pages)"
   ]
  },
  {
   "cell_type": "code",
   "execution_count": 76,
   "metadata": {},
   "outputs": [],
   "source": [
    "#pages[8:30]"
   ]
  },
  {
   "cell_type": "code",
   "execution_count": 77,
   "metadata": {},
   "outputs": [],
   "source": [
    "# for i in range (20):\n",
    "#     print(pages[i].metadata)"
   ]
  },
  {
   "cell_type": "markdown",
   "metadata": {},
   "source": [
    "Each page of the pdf is still quite long, we break the pages into smaller pieces."
   ]
  },
  {
   "cell_type": "code",
   "execution_count": 4,
   "metadata": {},
   "outputs": [],
   "source": [
    "from langchain_text_splitters import RecursiveCharacterTextSplitter\n",
    "text_splitter = RecursiveCharacterTextSplitter(chunk_size= 1000, chunk_overlap= 20)\n",
    "documents = text_splitter.split_documents(pages)"
   ]
  },
  {
   "cell_type": "code",
   "execution_count": 5,
   "metadata": {},
   "outputs": [
    {
     "name": "stdout",
     "output_type": "stream",
     "text": [
      "22 vs 60\n"
     ]
    }
   ],
   "source": [
    "print(f\"{len(pages)} vs {len(documents)}\")"
   ]
  },
  {
   "cell_type": "markdown",
   "metadata": {},
   "source": [
    "Load the Ollama Embeddings to convert each chunk of text to numeric vectors."
   ]
  },
  {
   "cell_type": "code",
   "execution_count": 6,
   "metadata": {},
   "outputs": [],
   "source": [
    "from langchain_community.embeddings import OllamaEmbeddings\n",
    "embeddings = OllamaEmbeddings(model =\"llama3\")"
   ]
  },
  {
   "cell_type": "markdown",
   "metadata": {},
   "source": [
    "Chroma Vector database - To store all the numeric vectors in a database. One local Database is Chroma"
   ]
  },
  {
   "cell_type": "code",
   "execution_count": 7,
   "metadata": {},
   "outputs": [],
   "source": [
    "from langchain_community.vectorstores import Chroma\n",
    "vector = Chroma.from_documents(documents, embeddings)"
   ]
  },
  {
   "cell_type": "markdown",
   "metadata": {},
   "source": [
    "Use the LLM (Large Language Model) Ollama"
   ]
  },
  {
   "cell_type": "code",
   "execution_count": 8,
   "metadata": {},
   "outputs": [],
   "source": [
    "from langchain_community.llms import Ollama\n",
    "llm = Ollama(model=\"llama3\")"
   ]
  },
  {
   "cell_type": "markdown",
   "metadata": {},
   "source": [
    "Output Parser - Convert the output of the chatmodel into a pure text"
   ]
  },
  {
   "cell_type": "code",
   "execution_count": 9,
   "metadata": {},
   "outputs": [],
   "source": [
    "from langchain_core.output_parsers import StrOutputParser\n",
    "output_parser = StrOutputParser()"
   ]
  },
  {
   "cell_type": "markdown",
   "metadata": {},
   "source": [
    "Retrievers - used to take question and compare it with all the numeric vectors in the Database and return most similar chunks of text"
   ]
  },
  {
   "cell_type": "code",
   "execution_count": 10,
   "metadata": {},
   "outputs": [],
   "source": [
    "retriever = vector.as_retriever()"
   ]
  },
  {
   "cell_type": "markdown",
   "metadata": {},
   "source": [
    "Adding Memory\n",
    "Here we are performing the reformulation of the question.\n",
    "user's followup question ==> LLM ==> Reformulated question (with history)"
   ]
  },
  {
   "cell_type": "code",
   "execution_count": 15,
   "metadata": {},
   "outputs": [],
   "source": [
    "from langchain_core.prompts import ChatPromptTemplate, MessagesPlaceholder\n",
    "\n",
    "instruction_to_system =\"\"\"\n",
    "Given a chat history and the latest user question\n",
    "which might reference context in the chat history, formulate a standalone question\n",
    "which can be understood without the chat history. Do NOT answer the question,\n",
    "just reformulate it if needed and otherwise return it as is.\n",
    "\"\"\"\n",
    "\n",
    "question_maker_prompt = ChatPromptTemplate.from_messages(\n",
    "    [\n",
    "        (\"system\", instruction_to_system),\n",
    "        MessagesPlaceholder(variable_name=\"chat_history\"),\n",
    "        (\"human\",\"{question}\"),\n",
    "    ]\n",
    ")\n",
    "\n",
    "question_chain = question_maker_prompt | llm | StrOutputParser()"
   ]
  },
  {
   "cell_type": "markdown",
   "metadata": {},
   "source": [
    "Example for understanding the reformation of the question"
   ]
  },
  {
   "cell_type": "code",
   "execution_count": 16,
   "metadata": {},
   "outputs": [
    {
     "data": {
      "text/plain": [
       "\"Here's the formulated standalone question:\\n\\nWhat are some additional details about the shape of the moon?\""
      ]
     },
     "execution_count": 16,
     "metadata": {},
     "output_type": "execute_result"
    }
   ],
   "source": [
    "from langchain_core.messages import AIMessage, HumanMessage\n",
    "question_chain.invoke({\"question\":\"Can you explain more\",\n",
    "        \"chat_history\": [HumanMessage(content=\"you explained that the moon is round\")]})"
   ]
  },
  {
   "cell_type": "markdown",
   "metadata": {},
   "source": [
    "Prompt\n",
    "Building the prompt for the question and answer.\n",
    "The prompt consist of :\n",
    "    # a python-list of system instruction\n",
    "    # a placeholder to take the chat history\n",
    "    # user's question"
   ]
  },
  {
   "cell_type": "code",
   "execution_count": 17,
   "metadata": {},
   "outputs": [],
   "source": [
    "qa_system_prompt = \"\"\"\n",
    "\n",
    "You are an assistant for question-answering tasks. \\\n",
    "Use the following pieces of retrieved context to answer the question. \\\n",
    "If you don't know the answer, provide a summary of the context. Do not generate your answer.\\\n",
    "{context}\n",
    "\"\"\"\n",
    "qa_prompt = ChatPromptTemplate.from_messages(\n",
    "    [\n",
    "        (\"system\", qa_system_prompt),\n",
    "        MessagesPlaceholder(variable_name=\"chat_history\"),\n",
    "        (\"human\",\"{question}\"),\n",
    "    ]\n",
    ")"
   ]
  },
  {
   "cell_type": "markdown",
   "metadata": {},
   "source": [
    "Which question to pass to LLM?\n",
    "We define a function that looks at the chat history,\n",
    "    @if there is a history: it will pass the question chain (that reformulates user's question).\n",
    "    @if chat history is empty: it will pass the user's question directly."
   ]
  },
  {
   "cell_type": "code",
   "execution_count": 20,
   "metadata": {},
   "outputs": [],
   "source": [
    "def contextualize_question(input:dict):\n",
    "    if input.get(\"chat_history\"):\n",
    "        return question_chain\n",
    "    else:\n",
    "        return input[\"question\"]"
   ]
  },
  {
   "cell_type": "code",
   "execution_count": 89,
   "metadata": {},
   "outputs": [
    {
     "name": "stdout",
     "output_type": "stream",
     "text": [
      "Requirement already satisfied: langchain_core in c:\\users\\user\\llm_rag\\.venv\\lib\\site-packages (0.2.11)\n",
      "Requirement already satisfied: PyYAML>=5.3 in c:\\users\\user\\llm_rag\\.venv\\lib\\site-packages (from langchain_core) (6.0.1)\n",
      "Requirement already satisfied: jsonpatch<2.0,>=1.33 in c:\\users\\user\\llm_rag\\.venv\\lib\\site-packages (from langchain_core) (1.33)\n",
      "Requirement already satisfied: langsmith<0.2.0,>=0.1.75 in c:\\users\\user\\llm_rag\\.venv\\lib\\site-packages (from langchain_core) (0.1.84)\n",
      "Requirement already satisfied: packaging<25,>=23.2 in c:\\users\\user\\llm_rag\\.venv\\lib\\site-packages (from langchain_core) (24.1)\n",
      "Requirement already satisfied: pydantic<3.0.0,>=2.7.4 in c:\\users\\user\\llm_rag\\.venv\\lib\\site-packages (from langchain_core) (2.8.2)\n",
      "Requirement already satisfied: tenacity!=8.4.0,<9.0.0,>=8.1.0 in c:\\users\\user\\llm_rag\\.venv\\lib\\site-packages (from langchain_core) (8.5.0)\n",
      "Requirement already satisfied: jsonpointer>=1.9 in c:\\users\\user\\llm_rag\\.venv\\lib\\site-packages (from jsonpatch<2.0,>=1.33->langchain_core) (3.0.0)\n",
      "Requirement already satisfied: orjson<4.0.0,>=3.9.14 in c:\\users\\user\\llm_rag\\.venv\\lib\\site-packages (from langsmith<0.2.0,>=0.1.75->langchain_core) (3.10.6)\n",
      "Requirement already satisfied: requests<3,>=2 in c:\\users\\user\\llm_rag\\.venv\\lib\\site-packages (from langsmith<0.2.0,>=0.1.75->langchain_core) (2.32.3)\n",
      "Requirement already satisfied: annotated-types>=0.4.0 in c:\\users\\user\\llm_rag\\.venv\\lib\\site-packages (from pydantic<3.0.0,>=2.7.4->langchain_core) (0.7.0)\n",
      "Requirement already satisfied: pydantic-core==2.20.1 in c:\\users\\user\\llm_rag\\.venv\\lib\\site-packages (from pydantic<3.0.0,>=2.7.4->langchain_core) (2.20.1)\n",
      "Requirement already satisfied: typing-extensions>=4.6.1 in c:\\users\\user\\llm_rag\\.venv\\lib\\site-packages (from pydantic<3.0.0,>=2.7.4->langchain_core) (4.12.2)\n",
      "Requirement already satisfied: charset-normalizer<4,>=2 in c:\\users\\user\\llm_rag\\.venv\\lib\\site-packages (from requests<3,>=2->langsmith<0.2.0,>=0.1.75->langchain_core) (3.3.2)\n",
      "Requirement already satisfied: idna<4,>=2.5 in c:\\users\\user\\llm_rag\\.venv\\lib\\site-packages (from requests<3,>=2->langsmith<0.2.0,>=0.1.75->langchain_core) (3.7)\n",
      "Requirement already satisfied: urllib3<3,>=1.21.1 in c:\\users\\user\\llm_rag\\.venv\\lib\\site-packages (from requests<3,>=2->langsmith<0.2.0,>=0.1.75->langchain_core) (2.2.2)\n",
      "Requirement already satisfied: certifi>=2017.4.17 in c:\\users\\user\\llm_rag\\.venv\\lib\\site-packages (from requests<3,>=2->langsmith<0.2.0,>=0.1.75->langchain_core) (2024.7.4)\n"
     ]
    }
   ],
   "source": [
    "!pip install langchain_core"
   ]
  },
  {
   "cell_type": "markdown",
   "metadata": {},
   "source": [
    "Retriever Chain\n",
    "We need a chain to pass the following to the LLM:\n",
    "    > context:use the vector retriever and get the most relevant chunks of the PDF\n",
    "    > question: reformulated or the original question depending on the history\n",
    "    > chat_history: python list of the chats\n",
    "\n",
    "We use the following assign function which adds the context to whatever it gets as input and pass it to the next link of the chain."
   ]
  },
  {
   "cell_type": "code",
   "execution_count": 23,
   "metadata": {},
   "outputs": [],
   "source": [
    "from langchain_core.runnables import RunnablePassthrough\n",
    "retriever_chain = RunnablePassthrough.assign(\n",
    "    context = contextualize_question | retriever\n",
    ")"
   ]
  },
  {
   "cell_type": "code",
   "execution_count": 24,
   "metadata": {},
   "outputs": [
    {
     "data": {
      "text/plain": [
       "{'chat_history': [HumanMessage(content='you explained that the moon is round')],\n",
       " 'question': 'can you explain more?',\n",
       " 'context': [Document(metadata={'page': 8, 'source': 'documents/PHD_PROGRAMME.pdf'}, page_content='and/or  \\nii. NITTTR Chennai admit students through an Entrance Test conducted at the  \\ninstitute . The Entrance Test syllabus shall consist of 50% of research \\nmethodology, and 50% shall be subject - specific.  \\niii. Students who have secured 50% marks in the entrance test are eligible to be \\ncalled for the interview.  \\niv. A relaxation of 5% marks will be allowed in the entrance examination for the \\ncandidates belonging to SC/ST/OBC/Differently abled category, Economically \\nweaker section (EWS) and other categories of candidates as per the decision of \\nthe commission from time to time.'),\n",
       "  Document(metadata={'page': 18, 'source': 'documents/PHD_PROGRAMME.pdf'}, page_content='recommendation for th e award or for rejection.  \\n14.6 If one examiner recommends the award of the degree while the other recommends \\nrejection, then the Thesis shall be referred to the third examiner to be nominated by the \\nDirector . If two of the three examiners recommend the award, t he Thesis shall be \\nprovisionally accepted. If two of the examiners recommend rejection, the Thesis shall \\nbe rejected and the registration of the scholar shall stand cancelled.  \\n14.7 If both the examiners recommend rejection, the Thesis shall be rejected and the \\nregistration of the scholar shall stand cancelled.  \\n14.8 In case, the examiner does not insist to send the Thesis back to him/her, the Thesis \\nshall be referred to the Research Advisory Committee  to ascertain the corrections \\ncarried out in the Thesis as suggested  by the examiners.'),\n",
       "  Document(metadata={'page': 12, 'source': 'documents/PHD_PROGRAMME.pdf'}, page_content=\"The Research Advisory Committee can also recommend institute  recognized online \\ncourses  such as SWAY AM as part of the credit requirements for the Ph.D. programme . \\nIn the case of candidates with B.E., / B. Tech., a minimum course works for 24 credits \\nshall be completed.  The course work s credit requirement for different categor ies are  \\ngiven below:  \\n9.1.1  In case of a Master's degree (Full Time - 2 years or equivalent) from any INI / CFTI \\n/ AICTE approved institut ions, the candidate shall have to complete a total of 12 \\ncredits within two years from the date of admission.\"),\n",
       "  Document(metadata={'page': 5, 'source': 'documents/PHD_PROGRAMME.pdf'}, page_content='1 1. GENERAL  ELIGIBILITY  \\nThe following are  eligible to seek admission to the Ph.D . Programme:  \\n Candidates who have completed:  \\n1.1 A 2-year/ 4- semester master’s degree programme after a 4 -year/ 8 semester Bachelor’s \\ndegree programme or a 2 year / 4 semester master’s degree programme after a 3 year \\nbachelor’s degree programme or qualifications declared equivalent to the master’s \\ndegree by the corresponding statutory regulatory body, with at least 55% marks in \\naggregate or equivalent grade in a poin t scale wherever grading system is followed.  \\n1.2 Candidates who seek admission after a 4 year / 8 semester bachelor’s degree \\nprogramme should have a minimum of 75% marks in aggregate or its equivalent grade \\non a point scale wherever the grading system is follo wed.  \\n1.3 Candidates who have completed the M.Phil . programme as per UGC Norms with at least \\n55% marks in aggregate or its equivalent grade in a point scale wherever grading system \\nis followed.')]}"
      ]
     },
     "execution_count": 24,
     "metadata": {},
     "output_type": "execute_result"
    }
   ],
   "source": [
    "retriever_chain.invoke({\n",
    "    \"chat_history\":[HumanMessage(content=\"you explained that the moon is round\")],\n",
    "    \"question\": \"can you explain more?\"\n",
    "})"
   ]
  },
  {
   "cell_type": "markdown",
   "metadata": {},
   "source": [
    "Retrieval- Argumented Generation (RAG) Chain - The main Chain: This produces the final answer."
   ]
  },
  {
   "cell_type": "code",
   "execution_count": 25,
   "metadata": {},
   "outputs": [],
   "source": [
    "rag_chain = (\n",
    "    retriever_chain | qa_prompt | llm #| output_parser\n",
    ")"
   ]
  },
  {
   "cell_type": "code",
   "execution_count": 40,
   "metadata": {},
   "outputs": [],
   "source": [
    "# question = \"How would decision-making improve if everybody in your organization had knowledge of all your customers needs? \"\n",
    "#question=\"How a company should go about and define the core functional job?\"\n",
    "# question = \"Explain in detail about the Innovation Process.\"\n",
    "# question = \"Explain about the TreeExpansionEvent class\"\n",
    "question = \"Explain the Course works.\""
   ]
  },
  {
   "cell_type": "code",
   "execution_count": 41,
   "metadata": {},
   "outputs": [
    {
     "data": {
      "text/plain": [
       "'Based on the provided documents, I can summarize the course work for the Ph.D. Programme:\\n\\nThe programme has two main categories of students:\\n\\n1. Regular Scholars:\\n\\t* Must give an undertaking to abide by the Ph.D. regulations.\\n\\t* Will work under the guidance of NITTTR Chennai faculty members.\\n\\t* Will have a research problem assigned to them.\\n2. Executive Scholars (Working Professionals):\\n\\t* Sponsored by their employers and work on research problems related to their organizations.\\n\\t* Collaborate with NITTTR Chennai faculty members on funded projects.\\n\\nThe course work for both categories involves the following:\\n\\n1. Research methodology: 50% of the Entrance Test syllabus.\\n2. Subject-specific knowledge: 50% of the Entrance Test syllabus.\\n\\nStudents who secure 50% marks in the entrance test are eligible to be called for an interview. A relaxation of 5% marks is allowed for SC/ST/OBC/Differently abled category, Economically Weaker section (EWS), and other categories as per the decision of the commission from time to time.\\n\\nPlease note that these documents do not provide detailed information on the specific research projects or topics that students will work on.'"
      ]
     },
     "execution_count": 41,
     "metadata": {},
     "output_type": "execute_result"
    }
   ],
   "source": [
    "chat_history = []\n",
    "ai_msg = rag_chain.invoke({\"question\":question, \"chat_history\":chat_history})\n",
    "chat_history.extend([HumanMessage(content = question), ai_msg])\n",
    "ai_msg"
   ]
  },
  {
   "cell_type": "code",
   "execution_count": 42,
   "metadata": {},
   "outputs": [
    {
     "name": "stdout",
     "output_type": "stream",
     "text": [
      "Based on the provided documents, I can summarize the course work for the Ph.D. Programme:\n",
      "\n",
      "The programme has two main categories of students:\n",
      "\n",
      "1. Regular Scholars:\n",
      "\t* Must give an undertaking to abide by the Ph.D. regulations.\n",
      "\t* Will work under the guidance of NITTTR Chennai faculty members.\n",
      "\t* Will have a research problem assigned to them.\n",
      "2. Executive Scholars (Working Professionals):\n",
      "\t* Sponsored by their employers and work on research problems related to their organizations.\n",
      "\t* Collaborate with NITTTR Chennai faculty members on funded projects.\n",
      "\n",
      "The course work for both categories involves the following:\n",
      "\n",
      "1. Research methodology: 50% of the Entrance Test syllabus.\n",
      "2. Subject-specific knowledge: 50% of the Entrance Test syllabus.\n",
      "\n",
      "Students who secure 50% marks in the entrance test are eligible to be called for an interview. A relaxation of 5% marks is allowed for SC/ST/OBC/Differently abled category, Economically Weaker section (EWS), and other categories as per the decision of the commission from time to time.\n",
      "\n",
      "Please note that these documents do not provide detailed information on the specific research projects or topics that students will work on.\n"
     ]
    }
   ],
   "source": [
    "# print(ai_msg,'content')\n",
    "print(ai_msg)"
   ]
  },
  {
   "cell_type": "code",
   "execution_count": 44,
   "metadata": {},
   "outputs": [
    {
     "name": "stdout",
     "output_type": "stream",
     "text": [
      "Based on the provided documents, here is a summary of the course works for the Ph.D. Programme:\n",
      "\n",
      "For Regular Scholars:\n",
      "* The total credit requirement is 24 credits.\n",
      "* In case of candidates with B.E./B.Tech., a minimum course work for 24 credits shall be completed within two years from the date of admission.\n",
      "\n",
      "For Executive Scholars (Working Professionals):\n",
      "* The total credit requirement varies depending on their background and qualifications.\n"
     ]
    }
   ],
   "source": [
    "question = \"can you explain more?\"\n",
    "ai_msg = rag_chain.invoke({\"question\": question, \"chat_history\": chat_history})\n",
    "chat_history.extend([HumanMessage(content=question),ai_msg])\n",
    "# print(ai_msg,\"content\")\n",
    "# print(f\"Title: {question.metadata['title']}, Source:{question.metadata['source']}\")\n",
    "print(ai_msg)"
   ]
  },
  {
   "cell_type": "code",
   "execution_count": 97,
   "metadata": {},
   "outputs": [],
   "source": [
    "# for doc in ai_msg[\"context\"]:\n",
    "#     print(f\"Title: {doc.metadata['title']}, Source:{doc.metadata['source']}\")"
   ]
  }
 ],
 "metadata": {
  "kernelspec": {
   "display_name": ".venv",
   "language": "python",
   "name": "python3"
  },
  "language_info": {
   "codemirror_mode": {
    "name": "ipython",
    "version": 3
   },
   "file_extension": ".py",
   "mimetype": "text/x-python",
   "name": "python",
   "nbconvert_exporter": "python",
   "pygments_lexer": "ipython3",
   "version": "3.12.4"
  }
 },
 "nbformat": 4,
 "nbformat_minor": 2
}
